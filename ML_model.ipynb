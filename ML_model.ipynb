{
 "cells": [
  {
   "cell_type": "code",
   "execution_count": 1,
   "metadata": {},
   "outputs": [],
   "source": [
    "import pandas as pd\n",
    "import numpy as np\n",
    "from sklearn import pipeline,preprocessing,metrics,model_selection,ensemble\n",
    "from sklearn_pandas import DataFrameMapper\n",
    "from sklearn.impute import SimpleImputer"
   ]
  },
  {
   "cell_type": "code",
   "execution_count": 2,
   "metadata": {},
   "outputs": [],
   "source": [
    "data=pd.read_csv('../mpg_data_example.csv')"
   ]
  },
  {
   "cell_type": "code",
   "execution_count": 3,
   "metadata": {},
   "outputs": [],
   "source": [
    "data = data.drop('origin',axis=1)\n",
    "data['model_year']=data['model year']"
   ]
  },
  {
   "cell_type": "code",
   "execution_count": 4,
   "metadata": {},
   "outputs": [
    {
     "data": {
      "text/html": [
       "<div>\n",
       "<style scoped>\n",
       "    .dataframe tbody tr th:only-of-type {\n",
       "        vertical-align: middle;\n",
       "    }\n",
       "\n",
       "    .dataframe tbody tr th {\n",
       "        vertical-align: top;\n",
       "    }\n",
       "\n",
       "    .dataframe thead th {\n",
       "        text-align: right;\n",
       "    }\n",
       "</style>\n",
       "<table border=\"1\" class=\"dataframe\">\n",
       "  <thead>\n",
       "    <tr style=\"text-align: right;\">\n",
       "      <th></th>\n",
       "      <th>mpg</th>\n",
       "      <th>cylinders</th>\n",
       "      <th>displacement</th>\n",
       "      <th>horsepower</th>\n",
       "      <th>weight</th>\n",
       "      <th>acceleration</th>\n",
       "      <th>model year</th>\n",
       "      <th>car name</th>\n",
       "      <th>model_year</th>\n",
       "    </tr>\n",
       "  </thead>\n",
       "  <tbody>\n",
       "    <tr>\n",
       "      <th>0</th>\n",
       "      <td>18.0</td>\n",
       "      <td>8</td>\n",
       "      <td>307.0</td>\n",
       "      <td>130.0</td>\n",
       "      <td>3504</td>\n",
       "      <td>12.0</td>\n",
       "      <td>70</td>\n",
       "      <td>chevrolet chevelle malibu</td>\n",
       "      <td>70</td>\n",
       "    </tr>\n",
       "    <tr>\n",
       "      <th>1</th>\n",
       "      <td>15.0</td>\n",
       "      <td>8</td>\n",
       "      <td>350.0</td>\n",
       "      <td>165.0</td>\n",
       "      <td>3693</td>\n",
       "      <td>11.5</td>\n",
       "      <td>70</td>\n",
       "      <td>buick skylark 320</td>\n",
       "      <td>70</td>\n",
       "    </tr>\n",
       "    <tr>\n",
       "      <th>2</th>\n",
       "      <td>18.0</td>\n",
       "      <td>8</td>\n",
       "      <td>318.0</td>\n",
       "      <td>150.0</td>\n",
       "      <td>3436</td>\n",
       "      <td>11.0</td>\n",
       "      <td>70</td>\n",
       "      <td>plymouth satellite</td>\n",
       "      <td>70</td>\n",
       "    </tr>\n",
       "    <tr>\n",
       "      <th>3</th>\n",
       "      <td>16.0</td>\n",
       "      <td>8</td>\n",
       "      <td>304.0</td>\n",
       "      <td>150.0</td>\n",
       "      <td>3433</td>\n",
       "      <td>12.0</td>\n",
       "      <td>70</td>\n",
       "      <td>amc rebel sst</td>\n",
       "      <td>70</td>\n",
       "    </tr>\n",
       "    <tr>\n",
       "      <th>4</th>\n",
       "      <td>17.0</td>\n",
       "      <td>8</td>\n",
       "      <td>302.0</td>\n",
       "      <td>140.0</td>\n",
       "      <td>3449</td>\n",
       "      <td>10.5</td>\n",
       "      <td>70</td>\n",
       "      <td>ford torino</td>\n",
       "      <td>70</td>\n",
       "    </tr>\n",
       "  </tbody>\n",
       "</table>\n",
       "</div>"
      ],
      "text/plain": [
       "    mpg  cylinders  displacement  horsepower  weight  acceleration  \\\n",
       "0  18.0          8         307.0       130.0    3504          12.0   \n",
       "1  15.0          8         350.0       165.0    3693          11.5   \n",
       "2  18.0          8         318.0       150.0    3436          11.0   \n",
       "3  16.0          8         304.0       150.0    3433          12.0   \n",
       "4  17.0          8         302.0       140.0    3449          10.5   \n",
       "\n",
       "   model year                   car name  model_year  \n",
       "0          70  chevrolet chevelle malibu          70  \n",
       "1          70          buick skylark 320          70  \n",
       "2          70         plymouth satellite          70  \n",
       "3          70              amc rebel sst          70  \n",
       "4          70                ford torino          70  "
      ]
     },
     "execution_count": 4,
     "metadata": {},
     "output_type": "execute_result"
    }
   ],
   "source": [
    "data.head()"
   ]
  },
  {
   "cell_type": "code",
   "execution_count": 5,
   "metadata": {},
   "outputs": [
    {
     "data": {
      "text/plain": [
       "mpg             0\n",
       "cylinders       0\n",
       "displacement    0\n",
       "horsepower      6\n",
       "weight          0\n",
       "acceleration    0\n",
       "model year      0\n",
       "car name        0\n",
       "model_year      0\n",
       "dtype: int64"
      ]
     },
     "execution_count": 5,
     "metadata": {},
     "output_type": "execute_result"
    }
   ],
   "source": [
    "data.isnull().sum()"
   ]
  },
  {
   "cell_type": "code",
   "execution_count": 9,
   "metadata": {},
   "outputs": [],
   "source": [
    "mapper = DataFrameMapper([\n",
    "                        (['cylinders','displacement','weight','acceleration','model_year'], preprocessing.StandardScaler()),\n",
    "                        (['horsepower'],SimpleImputer())\n",
    "                        ])"
   ]
  },
  {
   "cell_type": "code",
   "execution_count": 10,
   "metadata": {},
   "outputs": [],
   "source": [
    "pipeline_obj = pipeline.Pipeline([\n",
    "    ('mapper',mapper),\n",
    "    (\"model\", ensemble.RandomForestRegressor())\n",
    "])"
   ]
  },
  {
   "cell_type": "code",
   "execution_count": 11,
   "metadata": {},
   "outputs": [
    {
     "data": {
      "text/plain": [
       "Index(['mpg', 'cylinders', 'displacement', 'horsepower', 'weight',\n",
       "       'acceleration', 'model year', 'car name', 'model_year'],\n",
       "      dtype='object')"
      ]
     },
     "execution_count": 11,
     "metadata": {},
     "output_type": "execute_result"
    }
   ],
   "source": [
    "data.columns"
   ]
  },
  {
   "cell_type": "code",
   "execution_count": 12,
   "metadata": {},
   "outputs": [],
   "source": [
    "X=['cylinders', 'displacement', 'horsepower', 'weight',\n",
    "       'acceleration', 'model_year']\n",
    "Y=['mpg']"
   ]
  },
  {
   "cell_type": "code",
   "execution_count": 13,
   "metadata": {},
   "outputs": [
    {
     "name": "stderr",
     "output_type": "stream",
     "text": [
      "C:\\Users\\admin\\anaconda3\\lib\\site-packages\\sklearn\\pipeline.py:346: DataConversionWarning: A column-vector y was passed when a 1d array was expected. Please change the shape of y to (n_samples,), for example using ravel().\n",
      "  self._final_estimator.fit(Xt, y, **fit_params_last_step)\n"
     ]
    },
    {
     "data": {
      "text/plain": [
       "Pipeline(steps=[('mapper',\n",
       "                 DataFrameMapper(drop_cols=[],\n",
       "                                 features=[(['cylinders', 'displacement',\n",
       "                                             'weight', 'acceleration',\n",
       "                                             'model_year'],\n",
       "                                            StandardScaler()),\n",
       "                                           (['horsepower'], SimpleImputer())])),\n",
       "                ('model', RandomForestRegressor())])"
      ]
     },
     "execution_count": 13,
     "metadata": {},
     "output_type": "execute_result"
    }
   ],
   "source": [
    "pipeline_obj.fit(data[X],data[Y])"
   ]
  },
  {
   "cell_type": "code",
   "execution_count": 14,
   "metadata": {},
   "outputs": [
    {
     "data": {
      "text/plain": [
       "array([16.94 , 14.83 , 17.15 , 16.301, 16.891, 14.64 , 13.91 , 14.18 ,\n",
       "       13.44 , 14.65 , 14.95 , 14.31 , 15.08 , 14.786, 23.988, 21.594,\n",
       "       19.335, 21.318, 27.05 , 26.816, 24.516, 24.146, 24.729, 24.845,\n",
       "       21.112, 10.41 , 10.81 , 11.57 ,  9.63 , 27.09 , 26.485, 25.059,\n",
       "       26.215, 19.299, 16.672, 17.3  , 18.49 , 18.125, 14.135, 13.8  ,\n",
       "       14.265, 14.48 , 12.22 , 12.9  , 12.59 , 18.305, 22.235, 18.681,\n",
       "       18.295, 23.82 , 26.85 , 29.94 , 29.115, 31.491, 33.78 , 28.09 ,\n",
       "       27.288, 24.572, 25.74 , 23.72 , 20.54 , 22.31 , 13.455, 13.61 ,\n",
       "       14.67 , 14.03 , 16.23 , 11.81 , 12.83 , 12.34 , 13.015, 20.565,\n",
       "       14.895, 13.81 , 13.637, 14.08 , 19.197, 22.56 , 20.984, 26.225,\n",
       "       22.715, 26.44 , 22.855, 27.115, 26.53 , 13.255, 14.76 , 13.425,\n",
       "       14.12 , 14.58 , 12.09 , 13.175, 13.21 , 14.09 , 12.64 , 12.17 ,\n",
       "       13.28 , 18.392, 16.495, 18.17 , 18.182, 22.07 , 26.586, 11.61 ,\n",
       "       12.19 , 12.8  , 12.325, 18.603, 22.21 , 21.485, 22.78 , 21.735,\n",
       "       20.135, 21.023, 25.95 , 14.365, 14.85 , 29.539, 24.865, 21.29 ,\n",
       "       19.911, 15.278, 22.687, 20.096, 12.18 , 20.403, 20.528, 19.19 ,\n",
       "       16.073, 30.94 , 25.52 , 31.045, 24.913, 15.945, 15.99 , 17.787,\n",
       "       15.495, 13.41 , 14.015, 13.64 , 13.975, 27.84 , 27.83 , 26.52 ,\n",
       "       31.29 , 31.535, 27.15 , 25.614, 26.016, 23.909, 25.47 , 30.355,\n",
       "       19.305, 17.971, 15.709, 16.123, 15.26 , 14.75 , 15.32 , 14.305,\n",
       "       17.196, 16.095, 15.618, 17.706, 20.321, 19.868, 15.016, 28.24 ,\n",
       "       23.763, 19.67 , 22.951, 24.109, 25.691, 23.962, 18.892, 29.13 ,\n",
       "       18.899, 23.328, 22.691, 21.592, 24.273, 32.35 , 26.731, 25.   ,\n",
       "       24.773, 26.009, 27.62 , 16.65 , 15.77 , 16.063, 14.805, 21.271,\n",
       "       20.858, 22.746, 21.533, 29.354, 25.879, 29.302, 32.591, 19.507,\n",
       "       18.125, 18.432, 18.514, 29.325, 31.47 , 27.94 , 26.027, 20.392,\n",
       "       13.75 , 20.447, 19.458, 17.007, 15.42 , 14.055, 13.74 , 13.645,\n",
       "       31.016, 29.78 , 34.049, 25.519, 32.76 , 16.611, 17.326, 15.686,\n",
       "       15.207, 18.017, 20.382, 19.203, 18.267, 15.84 , 15.594, 15.579,\n",
       "       15.637, 29.647, 24.768, 26.285, 25.011, 30.699, 31.804, 30.462,\n",
       "       29.828, 21.751, 22.699, 22.131, 41.19 , 35.108, 35.625, 37.476,\n",
       "       35.553, 19.85 , 18.843, 19.444, 18.96 , 20.326, 20.629, 25.182,\n",
       "       20.249, 19.765, 20.548, 20.884, 18.759, 18.761, 19.079, 18.082,\n",
       "       18.621, 17.385, 30.554, 25.68 , 26.579, 29.661, 22.811, 23.345,\n",
       "       23.333, 24.42 , 21.017, 17.64 , 22.024, 16.971, 32.134, 30.988,\n",
       "       21.269, 20.849, 23.567, 20.473, 20.607, 17.424, 17.897, 17.41 ,\n",
       "       17.774, 16.639, 16.113, 19.872, 17.707, 34.427, 33.737, 35.83 ,\n",
       "       28.575, 25.354, 22.081, 27.381, 22.541, 34.362, 34.355, 33.943,\n",
       "       36.767, 27.685, 27.9  , 26.041, 31.466, 39.039, 37.49 , 33.34 ,\n",
       "       37.058, 28.027, 25.919, 25.094, 20.273, 35.093, 29.377, 31.395,\n",
       "       35.345, 32.775, 43.312, 26.709, 41.372, 43.064, 41.842, 33.687,\n",
       "       30.346, 40.786, 38.356, 35.001, 32.796, 29.23 , 28.578, 33.461,\n",
       "       24.091, 32.692, 28.51 , 27.206, 26.5  , 24.656, 31.126, 37.973,\n",
       "       37.787, 35.51 , 33.284, 36.7  , 36.98 , 34.283, 34.633, 34.427,\n",
       "       31.744, 33.614, 33.816, 33.957, 32.616, 30.745, 30.642, 27.614,\n",
       "       28.949, 26.018, 24.831, 22.204, 25.129, 20.811, 19.697, 28.814,\n",
       "       28.109, 33.262, 30.366, 28.915, 27.269, 24.974, 23.802, 35.79 ,\n",
       "       36.431, 33.07 , 37.439, 35.317, 35.734, 35.491, 33.762, 36.261,\n",
       "       33.415, 36.483, 25.604, 32.162, 26.674, 25.208, 29.851, 33.938,\n",
       "       26.341, 27.197, 41.448, 32.546, 28.628, 30.067])"
      ]
     },
     "execution_count": 14,
     "metadata": {},
     "output_type": "execute_result"
    }
   ],
   "source": [
    "pipeline_obj.predict(data[X])"
   ]
  },
  {
   "cell_type": "code",
   "execution_count": 15,
   "metadata": {},
   "outputs": [],
   "source": [
    "# from sklearn.externals import joblib\n",
    "from joblib import dump\n",
    "import joblib"
   ]
  },
  {
   "cell_type": "code",
   "execution_count": 16,
   "metadata": {},
   "outputs": [
    {
     "data": {
      "text/plain": [
       "['ML_model.joblib']"
      ]
     },
     "execution_count": 16,
     "metadata": {},
     "output_type": "execute_result"
    }
   ],
   "source": [
    "dump(pipeline_obj,'ML_model.joblib')"
   ]
  },
  {
   "cell_type": "code",
   "execution_count": 17,
   "metadata": {},
   "outputs": [],
   "source": [
    "modelReload=joblib.load('ML_model.joblib')"
   ]
  },
  {
   "cell_type": "code",
   "execution_count": 18,
   "metadata": {},
   "outputs": [
    {
     "data": {
      "text/html": [
       "<div>\n",
       "<style scoped>\n",
       "    .dataframe tbody tr th:only-of-type {\n",
       "        vertical-align: middle;\n",
       "    }\n",
       "\n",
       "    .dataframe tbody tr th {\n",
       "        vertical-align: top;\n",
       "    }\n",
       "\n",
       "    .dataframe thead th {\n",
       "        text-align: right;\n",
       "    }\n",
       "</style>\n",
       "<table border=\"1\" class=\"dataframe\">\n",
       "  <thead>\n",
       "    <tr style=\"text-align: right;\">\n",
       "      <th></th>\n",
       "      <th>cylinders</th>\n",
       "      <th>displacement</th>\n",
       "      <th>horsepower</th>\n",
       "      <th>weight</th>\n",
       "      <th>acceleration</th>\n",
       "      <th>model_year</th>\n",
       "    </tr>\n",
       "  </thead>\n",
       "  <tbody>\n",
       "    <tr>\n",
       "      <th>0</th>\n",
       "      <td>8</td>\n",
       "      <td>307.0</td>\n",
       "      <td>130.0</td>\n",
       "      <td>3504</td>\n",
       "      <td>12.0</td>\n",
       "      <td>70</td>\n",
       "    </tr>\n",
       "    <tr>\n",
       "      <th>1</th>\n",
       "      <td>8</td>\n",
       "      <td>350.0</td>\n",
       "      <td>165.0</td>\n",
       "      <td>3693</td>\n",
       "      <td>11.5</td>\n",
       "      <td>70</td>\n",
       "    </tr>\n",
       "    <tr>\n",
       "      <th>2</th>\n",
       "      <td>8</td>\n",
       "      <td>318.0</td>\n",
       "      <td>150.0</td>\n",
       "      <td>3436</td>\n",
       "      <td>11.0</td>\n",
       "      <td>70</td>\n",
       "    </tr>\n",
       "    <tr>\n",
       "      <th>3</th>\n",
       "      <td>8</td>\n",
       "      <td>304.0</td>\n",
       "      <td>150.0</td>\n",
       "      <td>3433</td>\n",
       "      <td>12.0</td>\n",
       "      <td>70</td>\n",
       "    </tr>\n",
       "    <tr>\n",
       "      <th>4</th>\n",
       "      <td>8</td>\n",
       "      <td>302.0</td>\n",
       "      <td>140.0</td>\n",
       "      <td>3449</td>\n",
       "      <td>10.5</td>\n",
       "      <td>70</td>\n",
       "    </tr>\n",
       "    <tr>\n",
       "      <th>...</th>\n",
       "      <td>...</td>\n",
       "      <td>...</td>\n",
       "      <td>...</td>\n",
       "      <td>...</td>\n",
       "      <td>...</td>\n",
       "      <td>...</td>\n",
       "    </tr>\n",
       "    <tr>\n",
       "      <th>393</th>\n",
       "      <td>4</td>\n",
       "      <td>140.0</td>\n",
       "      <td>86.0</td>\n",
       "      <td>2790</td>\n",
       "      <td>15.6</td>\n",
       "      <td>82</td>\n",
       "    </tr>\n",
       "    <tr>\n",
       "      <th>394</th>\n",
       "      <td>4</td>\n",
       "      <td>97.0</td>\n",
       "      <td>52.0</td>\n",
       "      <td>2130</td>\n",
       "      <td>24.6</td>\n",
       "      <td>82</td>\n",
       "    </tr>\n",
       "    <tr>\n",
       "      <th>395</th>\n",
       "      <td>4</td>\n",
       "      <td>135.0</td>\n",
       "      <td>84.0</td>\n",
       "      <td>2295</td>\n",
       "      <td>11.6</td>\n",
       "      <td>82</td>\n",
       "    </tr>\n",
       "    <tr>\n",
       "      <th>396</th>\n",
       "      <td>4</td>\n",
       "      <td>120.0</td>\n",
       "      <td>79.0</td>\n",
       "      <td>2625</td>\n",
       "      <td>18.6</td>\n",
       "      <td>82</td>\n",
       "    </tr>\n",
       "    <tr>\n",
       "      <th>397</th>\n",
       "      <td>4</td>\n",
       "      <td>119.0</td>\n",
       "      <td>82.0</td>\n",
       "      <td>2720</td>\n",
       "      <td>19.4</td>\n",
       "      <td>82</td>\n",
       "    </tr>\n",
       "  </tbody>\n",
       "</table>\n",
       "<p>398 rows × 6 columns</p>\n",
       "</div>"
      ],
      "text/plain": [
       "     cylinders  displacement  horsepower  weight  acceleration  model_year\n",
       "0            8         307.0       130.0    3504          12.0          70\n",
       "1            8         350.0       165.0    3693          11.5          70\n",
       "2            8         318.0       150.0    3436          11.0          70\n",
       "3            8         304.0       150.0    3433          12.0          70\n",
       "4            8         302.0       140.0    3449          10.5          70\n",
       "..         ...           ...         ...     ...           ...         ...\n",
       "393          4         140.0        86.0    2790          15.6          82\n",
       "394          4          97.0        52.0    2130          24.6          82\n",
       "395          4         135.0        84.0    2295          11.6          82\n",
       "396          4         120.0        79.0    2625          18.6          82\n",
       "397          4         119.0        82.0    2720          19.4          82\n",
       "\n",
       "[398 rows x 6 columns]"
      ]
     },
     "execution_count": 18,
     "metadata": {},
     "output_type": "execute_result"
    }
   ],
   "source": [
    "data[X]"
   ]
  },
  {
   "cell_type": "code",
   "execution_count": 19,
   "metadata": {},
   "outputs": [
    {
     "data": {
      "text/plain": [
       "array([16.94 , 14.83 , 17.15 , 16.301, 16.891, 14.64 , 13.91 , 14.18 ,\n",
       "       13.44 , 14.65 , 14.95 , 14.31 , 15.08 , 14.786, 23.988, 21.594,\n",
       "       19.335, 21.318, 27.05 , 26.816, 24.516, 24.146, 24.729, 24.845,\n",
       "       21.112, 10.41 , 10.81 , 11.57 ,  9.63 , 27.09 , 26.485, 25.059,\n",
       "       26.215, 19.299, 16.672, 17.3  , 18.49 , 18.125, 14.135, 13.8  ,\n",
       "       14.265, 14.48 , 12.22 , 12.9  , 12.59 , 18.305, 22.235, 18.681,\n",
       "       18.295, 23.82 , 26.85 , 29.94 , 29.115, 31.491, 33.78 , 28.09 ,\n",
       "       27.288, 24.572, 25.74 , 23.72 , 20.54 , 22.31 , 13.455, 13.61 ,\n",
       "       14.67 , 14.03 , 16.23 , 11.81 , 12.83 , 12.34 , 13.015, 20.565,\n",
       "       14.895, 13.81 , 13.637, 14.08 , 19.197, 22.56 , 20.984, 26.225,\n",
       "       22.715, 26.44 , 22.855, 27.115, 26.53 , 13.255, 14.76 , 13.425,\n",
       "       14.12 , 14.58 , 12.09 , 13.175, 13.21 , 14.09 , 12.64 , 12.17 ,\n",
       "       13.28 , 18.392, 16.495, 18.17 , 18.182, 22.07 , 26.586, 11.61 ,\n",
       "       12.19 , 12.8  , 12.325, 18.603, 22.21 , 21.485, 22.78 , 21.735,\n",
       "       20.135, 21.023, 25.95 , 14.365, 14.85 , 29.539, 24.865, 21.29 ,\n",
       "       19.911, 15.278, 22.687, 20.096, 12.18 , 20.403, 20.528, 19.19 ,\n",
       "       16.073, 30.94 , 25.52 , 31.045, 24.913, 15.945, 15.99 , 17.787,\n",
       "       15.495, 13.41 , 14.015, 13.64 , 13.975, 27.84 , 27.83 , 26.52 ,\n",
       "       31.29 , 31.535, 27.15 , 25.614, 26.016, 23.909, 25.47 , 30.355,\n",
       "       19.305, 17.971, 15.709, 16.123, 15.26 , 14.75 , 15.32 , 14.305,\n",
       "       17.196, 16.095, 15.618, 17.706, 20.321, 19.868, 15.016, 28.24 ,\n",
       "       23.763, 19.67 , 22.951, 24.109, 25.691, 23.962, 18.892, 29.13 ,\n",
       "       18.899, 23.328, 22.691, 21.592, 24.273, 32.35 , 26.731, 25.   ,\n",
       "       24.773, 26.009, 27.62 , 16.65 , 15.77 , 16.063, 14.805, 21.271,\n",
       "       20.858, 22.746, 21.533, 29.354, 25.879, 29.302, 32.591, 19.507,\n",
       "       18.125, 18.432, 18.514, 29.325, 31.47 , 27.94 , 26.027, 20.392,\n",
       "       13.75 , 20.447, 19.458, 17.007, 15.42 , 14.055, 13.74 , 13.645,\n",
       "       31.016, 29.78 , 34.049, 25.519, 32.76 , 16.611, 17.326, 15.686,\n",
       "       15.207, 18.017, 20.382, 19.203, 18.267, 15.84 , 15.594, 15.579,\n",
       "       15.637, 29.647, 24.768, 26.285, 25.011, 30.699, 31.804, 30.462,\n",
       "       29.828, 21.751, 22.699, 22.131, 41.19 , 35.108, 35.625, 37.476,\n",
       "       35.553, 19.85 , 18.843, 19.444, 18.96 , 20.326, 20.629, 25.182,\n",
       "       20.249, 19.765, 20.548, 20.884, 18.759, 18.761, 19.079, 18.082,\n",
       "       18.621, 17.385, 30.554, 25.68 , 26.579, 29.661, 22.811, 23.345,\n",
       "       23.333, 24.42 , 21.017, 17.64 , 22.024, 16.971, 32.134, 30.988,\n",
       "       21.269, 20.849, 23.567, 20.473, 20.607, 17.424, 17.897, 17.41 ,\n",
       "       17.774, 16.639, 16.113, 19.872, 17.707, 34.427, 33.737, 35.83 ,\n",
       "       28.575, 25.354, 22.081, 27.381, 22.541, 34.362, 34.355, 33.943,\n",
       "       36.767, 27.685, 27.9  , 26.041, 31.466, 39.039, 37.49 , 33.34 ,\n",
       "       37.058, 28.027, 25.919, 25.094, 20.273, 35.093, 29.377, 31.395,\n",
       "       35.345, 32.775, 43.312, 26.709, 41.372, 43.064, 41.842, 33.687,\n",
       "       30.346, 40.786, 38.356, 35.001, 32.796, 29.23 , 28.578, 33.461,\n",
       "       24.091, 32.692, 28.51 , 27.206, 26.5  , 24.656, 31.126, 37.973,\n",
       "       37.787, 35.51 , 33.284, 36.7  , 36.98 , 34.283, 34.633, 34.427,\n",
       "       31.744, 33.614, 33.816, 33.957, 32.616, 30.745, 30.642, 27.614,\n",
       "       28.949, 26.018, 24.831, 22.204, 25.129, 20.811, 19.697, 28.814,\n",
       "       28.109, 33.262, 30.366, 28.915, 27.269, 24.974, 23.802, 35.79 ,\n",
       "       36.431, 33.07 , 37.439, 35.317, 35.734, 35.491, 33.762, 36.261,\n",
       "       33.415, 36.483, 25.604, 32.162, 26.674, 25.208, 29.851, 33.938,\n",
       "       26.341, 27.197, 41.448, 32.546, 28.628, 30.067])"
      ]
     },
     "execution_count": 19,
     "metadata": {},
     "output_type": "execute_result"
    }
   ],
   "source": [
    "modelReload.predict(data[X])"
   ]
  },
  {
   "cell_type": "code",
   "execution_count": 20,
   "metadata": {},
   "outputs": [],
   "source": [
    "temp={}\n",
    "temp['cylinders']=1\n",
    "temp['displacement']=2\n",
    "temp['horsepower']=3\n",
    "temp['weight']=4\n",
    "temp['acceleration']=5\n",
    "temp['model_year']=6"
   ]
  },
  {
   "cell_type": "code",
   "execution_count": 21,
   "metadata": {},
   "outputs": [],
   "source": [
    "testDtaa=pd.DataFrame({'x':temp}).transpose()"
   ]
  },
  {
   "cell_type": "code",
   "execution_count": 22,
   "metadata": {},
   "outputs": [
    {
     "data": {
      "text/html": [
       "<div>\n",
       "<style scoped>\n",
       "    .dataframe tbody tr th:only-of-type {\n",
       "        vertical-align: middle;\n",
       "    }\n",
       "\n",
       "    .dataframe tbody tr th {\n",
       "        vertical-align: top;\n",
       "    }\n",
       "\n",
       "    .dataframe thead th {\n",
       "        text-align: right;\n",
       "    }\n",
       "</style>\n",
       "<table border=\"1\" class=\"dataframe\">\n",
       "  <thead>\n",
       "    <tr style=\"text-align: right;\">\n",
       "      <th></th>\n",
       "      <th>acceleration</th>\n",
       "      <th>cylinders</th>\n",
       "      <th>displacement</th>\n",
       "      <th>horsepower</th>\n",
       "      <th>model_year</th>\n",
       "      <th>weight</th>\n",
       "    </tr>\n",
       "  </thead>\n",
       "  <tbody>\n",
       "    <tr>\n",
       "      <th>x</th>\n",
       "      <td>5</td>\n",
       "      <td>1</td>\n",
       "      <td>2</td>\n",
       "      <td>3</td>\n",
       "      <td>6</td>\n",
       "      <td>4</td>\n",
       "    </tr>\n",
       "  </tbody>\n",
       "</table>\n",
       "</div>"
      ],
      "text/plain": [
       "   acceleration  cylinders  displacement  horsepower  model_year  weight\n",
       "x             5          1             2           3           6       4"
      ]
     },
     "execution_count": 22,
     "metadata": {},
     "output_type": "execute_result"
    }
   ],
   "source": [
    "testDtaa"
   ]
  },
  {
   "cell_type": "code",
   "execution_count": 23,
   "metadata": {},
   "outputs": [
    {
     "data": {
      "text/plain": [
       "29.916999999999998"
      ]
     },
     "execution_count": 23,
     "metadata": {},
     "output_type": "execute_result"
    }
   ],
   "source": [
    "modelReload.predict(testDtaa)[0]"
   ]
  },
  {
   "cell_type": "code",
   "execution_count": null,
   "metadata": {},
   "outputs": [],
   "source": []
  }
 ],
 "metadata": {
  "kernelspec": {
   "display_name": "Python 3",
   "language": "python",
   "name": "python3"
  },
  "language_info": {
   "codemirror_mode": {
    "name": "ipython",
    "version": 3
   },
   "file_extension": ".py",
   "mimetype": "text/x-python",
   "name": "python",
   "nbconvert_exporter": "python",
   "pygments_lexer": "ipython3",
   "version": "3.8.8"
  }
 },
 "nbformat": 4,
 "nbformat_minor": 4
}
